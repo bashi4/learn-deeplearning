{
 "cells": [
  {
   "cell_type": "code",
   "execution_count": 32,
   "metadata": {},
   "outputs": [],
   "source": [
    "import numpy as np\n",
    "import matplotlib.pyplot as plt"
   ]
  },
  {
   "cell_type": "code",
   "execution_count": 88,
   "metadata": {},
   "outputs": [
    {
     "data": {
      "image/png": "[encoded data removed]",
      "text/plain": [
       "<Figure size 432x288 with 2 Axes>"
      ]
     },
     "metadata": {
      "needs_background": "light"
     },
     "output_type": "display_data"
    }
   ],
   "source": [
    "X = np.arange(-1.0, 1.0, 0.2)\n",
    "Y = np.arange(-1.0, 1.0, 0.2)\n",
    "\n",
    "Z = np.zeros((10, 10))\n",
    "\n",
    "w_x = 2.5\n",
    "w_y = 3.0\n",
    "bias = 0\n",
    "\n",
    "for i in range(10):\n",
    "    for j in range(10):\n",
    "        \n",
    "        u = X[i]*w_x + Y[j]*w_y + bias\n",
    "        \n",
    "        y = 1/(1+np.exp(-u))\n",
    "        \n",
    "        Z[i][j] = y\n",
    "\n",
    "plt.imshow(Z, \"gray\", vmin = 0.0, vmax = 1.0)\n",
    "plt.colorbar()\n",
    "plt.show()\n",
    "        "
   ]
  },
  {
   "cell_type": "code",
   "execution_count": 116,
   "metadata": {},
   "outputs": [
    {
     "data": {
      "image/png": "[encoded data removed]",
      "text/plain": [
       "<Figure size 432x288 with 2 Axes>"
      ]
     },
     "metadata": {
      "needs_background": "light"
     },
     "output_type": "display_data"
    }
   ],
   "source": [
    "X = np.arange(-10, 10, 1)\n",
    "Y = np.arange(-10, 10, 1)\n",
    "\n",
    "Z = np.zeros((20, 20))\n",
    "\n",
    "w_x = 1\n",
    "w_y = 1\n",
    "bias = 0\n",
    "\n",
    "for i in range(20):\n",
    "    for j in range(20):\n",
    "        \n",
    "        u = X[i]*w_x + Y[j]*w_y + bias\n",
    "        \n",
    "        y = np.where(u >= 0, u, 0)\n",
    "        \n",
    "        Z[i][j] = y\n",
    "\n",
    "plt.imshow(Z, \"gray\", vmin = 0.0, vmax = 10)\n",
    "plt.colorbar()\n",
    "plt.show()\n",
    "        "
   ]
  },
  {
   "cell_type": "code",
   "execution_count": 108,
   "metadata": {},
   "outputs": [
    {
     "data": {
      "image/png": "[encoded data removed]",
      "text/plain": [
       "<Figure size 432x288 with 2 Axes>"
      ]
     },
     "metadata": {
      "needs_background": "light"
     },
     "output_type": "display_data"
    }
   ],
   "source": [
    "X = np.arange(-10, 10, 1)\n",
    "Y = np.arange(-10, 10, 1)\n",
    "\n",
    "Z = np.zeros((20, 20))\n",
    "\n",
    "w_x = 1\n",
    "w_y = 1\n",
    "bias = 0\n",
    "\n",
    "for i in range(20):\n",
    "    for j in range(20):\n",
    "        \n",
    "        u = (X[i]*w_x) + (Y[j]*w_y) + bias\n",
    "        \n",
    "        y = np.where(u >= 0, 1, 0)\n",
    "        \n",
    "        Z[i][j] = y\n",
    "\n",
    "plt.imshow(Z, \"gray\", vmin = 0.0, vmax = 1)\n",
    "plt.colorbar()\n",
    "plt.show()\n",
    "        "
   ]
  },
  {
   "cell_type": "code",
   "execution_count": null,
   "metadata": {},
   "outputs": [],
   "source": []
  },
  {
   "cell_type": "code",
   "execution_count": null,
   "metadata": {},
   "outputs": [],
   "source": []
  }
 ],
 "metadata": {
  "kernelspec": {
   "display_name": "Python 3",
   "language": "python",
   "name": "python3"
  },
  "language_info": {
   "codemirror_mode": {
    "name": "ipython",
    "version": 3
   },
   "file_extension": ".py",
   "mimetype": "text/x-python",
   "name": "python",
   "nbconvert_exporter": "python",
   "pygments_lexer": "ipython3",
   "version": "3.7.0"
  }
 },
 "nbformat": 4,
 "nbformat_minor": 2
}
